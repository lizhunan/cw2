{
 "cells": [
  {
   "cell_type": "code",
   "execution_count": 1,
   "metadata": {},
   "outputs": [],
   "source": [
    "import pandas as pd\n",
    "import os"
   ]
  },
  {
   "cell_type": "code",
   "execution_count": 2,
   "metadata": {},
   "outputs": [],
   "source": [
    "pd.set_option('display.max_columns', None)\n",
    "pd.set_option('display.max_rows', None)"
   ]
  },
  {
   "cell_type": "code",
   "execution_count": 85,
   "metadata": {},
   "outputs": [],
   "source": [
    "country_code_dict = {\n",
    "    'POL':'Poland', 'NZL_NM':'New Zealand -- Non-Maori', 'FRACNP':pd.NA, 'FIN':'Finland', 'NZL_MA':'New Zealand -- Maori',\n",
    "    'AUT':'Austria', 'GBR_SCO':pd.NA, 'GBR_NP':'United Kingdom', 'KOR':'Republic of Korea', 'UKR':'Ukraine',\n",
    "    'CHE':'Switzerland', 'CZE':'Czechia', 'ITA':'Italy', 'AUS':'Australia', 'ISL':'Iceland',\n",
    "    'SWE':'Sweden', 'SVK':'Slovakia', 'SVN':'Slovenia', 'LTU':'Lithuania', 'HRV':'Croatia',\n",
    "    'BEL':'Belgium', 'GBRCENW':pd.NA, 'BLR':'Belarus', 'LUX':'Luxembourg', 'BGR':'Bulgaria',\n",
    "    'DEUTNP':'Germany', 'IRL':'Ireland', 'ESP':'Spain', 'GBR_NIR':pd.NA, 'DEUTW':pd.NA,\n",
    "    'GRC':'Greece', 'PRT':'Portugal', 'GBRTENW':pd.NA, 'JPN':'Japan', 'CAN':'Canada',\n",
    "    'TWN':'Taiwan, Province of China', 'USA':'United States of America', 'NOR':'Norway', 'CHL':'Chile', 'HKG':'Hong Kong',\n",
    "    'EST':'Estonia', 'LVA':'Latvia', 'HUN':'Hungary', 'FRATNP':'France', 'NLD':'Netherlands',\n",
    "    'NZL_NP':'New Zealand', 'DNK':'Denmark', 'RUS':'Russian Federation', 'DEUTE':pd.NA, 'ISR':'Israel'\n",
    "}"
   ]
  },
  {
   "cell_type": "code",
   "execution_count": 86,
   "metadata": {},
   "outputs": [],
   "source": [
    "births_files = os.listdir('births/Births')\n",
    "deaths_files = os.listdir('deaths/Deaths_1x1')\n",
    "population_files = os.listdir('Population')"
   ]
  },
  {
   "cell_type": "code",
   "execution_count": 147,
   "metadata": {},
   "outputs": [],
   "source": [
    "ret_birth = pd.DataFrame()\n",
    "ret_death = pd.DataFrame()\n",
    "ret_population = pd.DataFrame()\n",
    "for file_name in births_files:\n",
    "    birth_pd = pd.read_table(filepath_or_buffer=f'births/Births/{file_name}',\n",
    "                            names=['Year', 'Female_Birth', 'Male_Birth', 'Total_Birth'],\n",
    "                            sep='\\s+', skiprows=3, na_values=['.'])\n",
    "    birth_pd['Country'] = country_code_dict[file_name.split('.')[0]]\n",
    "    ret_birth = pd.concat([ret_birth, birth_pd], ignore_index=True)\n",
    "for file_name in deaths_files:\n",
    "    death_pd = pd.read_table(filepath_or_buffer=f'deaths/Deaths_1x1/{file_name}',\n",
    "                            names=['Year', 'Age','Female_Death', 'Male_Death', 'Total_Death'],\n",
    "                            sep='\\s+', skiprows=3, na_values=['.'])\n",
    "    death_pd = death_pd.drop(['Age'], axis=1).groupby('Year').sum().reset_index()\n",
    "    death_pd['Country'] = country_code_dict[file_name.split('.')[0]]\n",
    "    ret_death = pd.concat([ret_death, death_pd], ignore_index=True)\n",
    "for file_name in population_files:\n",
    "    population_pd = pd.read_table(filepath_or_buffer=f'Population/{file_name}',\n",
    "                            names=['Year', 'Age','Female_Population', 'Male_Population', 'Total_Population'],\n",
    "                            sep='\\s+', skiprows=3, na_values=['.'])\n",
    "    population_pd = population_pd.drop(['Age'], axis=1).groupby('Year').sum().reset_index()\n",
    "    population_pd['Country'] = country_code_dict[file_name.split('.')[0]]\n",
    "    ret_population = pd.concat([ret_population, population_pd], ignore_index=True)\n",
    "ret_death['Year'] = ret_death['Year'].astype('int64')\n",
    "ret_population['Year'] = ret_population['Year'].astype('int64')\n",
    "# ret_population = ret_population.dropna(axis=0, how='any')\n",
    "ret = pd.merge(left=ret_birth, right=ret_death, on=['Country', 'Year'], how='outer')\n",
    "ret = pd.merge(left=ret, right=ret_population, on=['Year', 'Country'], how='outer')"
   ]
  },
  {
   "cell_type": "code",
   "execution_count": 148,
   "metadata": {},
   "outputs": [],
   "source": [
    "ret.to_csv(path_or_buf='vis.csv')"
   ]
  }
 ],
 "metadata": {
  "kernelspec": {
   "display_name": "dma",
   "language": "python",
   "name": "python3"
  },
  "language_info": {
   "codemirror_mode": {
    "name": "ipython",
    "version": 3
   },
   "file_extension": ".py",
   "mimetype": "text/x-python",
   "name": "python",
   "nbconvert_exporter": "python",
   "pygments_lexer": "ipython3",
   "version": "3.10.9"
  },
  "orig_nbformat": 4,
  "vscode": {
   "interpreter": {
    "hash": "0b3a304d6ee885c839edf501738c01393d9e5fb2fae095a386d111e2dfcc1cf7"
   }
  }
 },
 "nbformat": 4,
 "nbformat_minor": 2
}

